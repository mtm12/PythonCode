{
 "cells": [
  {
   "cell_type": "code",
   "execution_count": 11,
   "metadata": {
    "collapsed": false
   },
   "outputs": [],
   "source": [
    "import Quandl\n",
    "import pickle\n",
    "import pandas as pd\n",
    "import matplotlib.pyplot as plt\n",
    "import numpy as np\n",
    "from sklearn.linear_model import LinearRegression\n",
    "from sklearn import cross_validation\n",
    "import datetime\n",
    "from pylab import *\n",
    "from sklearn import metrics\n",
    "#%matplotlib inline\n",
    "%matplotlib qt"
   ]
  },
  {
   "cell_type": "code",
   "execution_count": 12,
   "metadata": {
    "collapsed": false
   },
   "outputs": [],
   "source": [
    "df = Quandl.get(\"WIKI/GOOGL\")\n",
    "pickle_out = open('GOOGL.pickle','wb')\n",
    "pickle.dump(df, pickle_out)\n",
    "pickle_out.close() "
   ]
  },
  {
   "cell_type": "code",
   "execution_count": 13,
   "metadata": {
    "collapsed": false
   },
   "outputs": [
    {
     "name": "stdout",
     "output_type": "stream",
     "text": [
      "            Adj. Close  Adj. Low    HL_PCT  PCT_change  Adj. Volume  Forecast\n",
      "Date                                                                         \n",
      "2016-05-17      720.19   718.000  2.478513   -1.486882    1631175.0   715.020\n",
      "2016-05-18      721.78   715.020  1.461664    0.456507    1607604.0   710.305\n",
      "2016-05-19      715.31   710.305  1.425256   -0.416261    1488030.0   715.010\n",
      "2016-05-20      721.71   715.010  1.758324    0.732769    1710030.0   716.940\n",
      "2016-05-23      717.24   716.940  0.914603   -0.380566    1228165.0       NaN\n"
     ]
    }
   ],
   "source": [
    "GOOGL_data_complete = pd.read_pickle('GOOGL.pickle')\n",
    "GOOGL_data_complete = GOOGL_data_complete[['Adj. Open',  'Adj. High',  'Adj. Low',  'Adj. Close', 'Adj. Volume']]\n",
    "GOOGL_data_complete['HL_PCT'] = (GOOGL_data_complete['Adj. High'] - GOOGL_data_complete['Adj. Low']) / GOOGL_data_complete['Adj. Close'] * 100.0\n",
    "GOOGL_data_complete['PCT_change'] = (GOOGL_data_complete['Adj. Close'] - GOOGL_data_complete['Adj. Open']) / GOOGL_data_complete['Adj. Open'] * 100.0\n",
    "GOOGL_data_complete = GOOGL_data_complete[['Adj. Close', 'Adj. Low', 'HL_PCT', 'PCT_change', 'Adj. Volume']]\n",
    "GOOGL_data_complete['Forecast'] = GOOGL_data_complete['Adj. Low'].shift(-1)\n",
    "#plt.plot(GOOGL_data_complete['PCT_change'])\n",
    "#plt.xlabel('Date')\n",
    "#plt.ylabel('PCT_change')\n",
    "#print(GOOGL_data_complete.head())\n",
    "\n",
    "print(GOOGL_data_complete.tail())"
   ]
  },
  {
   "cell_type": "code",
   "execution_count": 14,
   "metadata": {
    "collapsed": false
   },
   "outputs": [
    {
     "name": "stdout",
     "output_type": "stream",
     "text": [
      "            Adj. Close  Adj. Low    HL_PCT  PCT_change  Adj. Volume  Forecast\n",
      "Date                                                                         \n",
      "2004-08-19      50.170    47.980  8.072553    0.340000   44659000.0    50.250\n",
      "2004-08-20      54.155    50.250  7.921706    7.227007   22834300.0    54.525\n",
      "2004-08-23      54.700    54.525  4.049360   -1.218962   18256100.0    51.785\n",
      "2004-08-24      52.435    51.785  7.657099   -5.726357   15247300.0    51.940\n",
      "2004-08-25      53.000    51.940  3.886792    0.990854    9188600.0    52.330\n",
      "            Adj. Close  Adj. Low    HL_PCT  PCT_change  Adj. Volume  Forecast\n",
      "Date                                                                         \n",
      "2016-04-05      758.57    755.60  0.958382    0.058038    1210331.0   756.300\n",
      "2016-04-06      768.07    756.30  1.577981    1.349889    1250254.0   757.500\n",
      "2016-04-07      760.12    757.50  1.560280   -0.679454    1221521.0   755.770\n",
      "2016-04-08      759.47    755.77  1.495780   -0.835651    1158783.0   757.340\n",
      "2016-04-11      757.54    757.34  1.304222   -1.033379    1576119.0   751.565\n"
     ]
    }
   ],
   "source": [
    "GOOGL_data = GOOGL_data_complete[:len(GOOGL_data_complete)-30]\n",
    "print(GOOGL_data.head())\n",
    "print(GOOGL_data.tail())"
   ]
  },
  {
   "cell_type": "code",
   "execution_count": 15,
   "metadata": {
    "collapsed": false
   },
   "outputs": [
    {
     "name": "stdout",
     "output_type": "stream",
     "text": [
      "            Adj. Close  Adj. Low    HL_PCT  PCT_change  Adj. Volume\n",
      "Date                                                               \n",
      "2010-08-20     231.010   230.510  2.287780   -1.271449    7827300.0\n",
      "2009-06-24     204.645   203.280  1.385326    0.134560    4910600.0\n",
      "2006-01-03     217.615   209.110  4.009374    3.008142   26216100.0\n",
      "2010-01-12     295.240   294.000  1.720634   -1.199699    9696800.0\n",
      "2010-10-27     308.235   306.165  1.244181    0.113679    4479300.0\n",
      "            Forecast\n",
      "Date                \n",
      "2010-08-20   228.865\n",
      "2009-06-24   203.255\n",
      "2006-01-03   219.875\n",
      "2010-01-12   286.950\n",
      "2010-10-27   306.650\n"
     ]
    }
   ],
   "source": [
    "GOOGL_train = GOOGL_data[:(int(len(GOOGL_data)) - int(len(GOOGL_data)*0.25))]\n",
    "X = GOOGL_train[['Adj. Close', 'Adj. Low', 'HL_PCT','PCT_change','Adj. Volume']]\n",
    "y = GOOGL_train[['Forecast']]\n",
    "\n",
    "X_train, X_test, y_train, y_test = cross_validation.train_test_split(X, y, test_size=0.2)\n",
    "print(X_train.tail())\n",
    "print(y_train.tail())"
   ]
  },
  {
   "cell_type": "code",
   "execution_count": 16,
   "metadata": {
    "collapsed": false
   },
   "outputs": [
    {
     "name": "stdout",
     "output_type": "stream",
     "text": [
      "0.998193994718\n"
     ]
    }
   ],
   "source": [
    "linreg = LinearRegression()\n",
    "linreg.fit(X_train, y_train)\n",
    "confidence = linreg.score(X_test, y_test)\n",
    "print(confidence)\n"
   ]
  },
  {
   "cell_type": "code",
   "execution_count": 17,
   "metadata": {
    "collapsed": false
   },
   "outputs": [
    {
     "name": "stdout",
     "output_type": "stream",
     "text": [
      "            Adj. Close  Adj. Low    HL_PCT  PCT_change  Adj. Volume\n",
      "Date                                                               \n",
      "2009-10-01     243.600   243.500  1.943760   -1.176471    5620700.0\n",
      "2007-09-24     284.010   280.000  2.017535    1.251337   10583400.0\n",
      "2011-12-06     311.885   310.120  1.343444    0.125203    4648300.0\n",
      "2006-07-11     212.280   206.515  2.831166    1.445605   11930600.0\n",
      "2007-06-08     257.745   254.730  1.974820   -0.137544   12703600.0\n",
      "            Adj. Close  Adj. Low    HL_PCT  PCT_change  Adj. Volume\n",
      "Date                                                               \n",
      "2009-07-01     209.495   209.075  1.969021   -1.228194    4616900.0\n",
      "2006-10-05     205.905   205.430  1.792089   -0.696889   11568000.0\n",
      "2012-05-17     311.525   310.615  2.667523   -1.700772    6700800.0\n",
      "2005-11-07     197.515   196.075  1.346733   -0.017717   19163800.0\n",
      "2011-06-02     264.030   261.240  1.480892    0.092879    4404500.0\n"
     ]
    }
   ],
   "source": [
    "print(X_test.head())\n",
    "print(X_test.tail())"
   ]
  },
  {
   "cell_type": "code",
   "execution_count": 18,
   "metadata": {
    "collapsed": false
   },
   "outputs": [
    {
     "name": "stdout",
     "output_type": "stream",
     "text": [
      "                     0\n",
      "Date                  \n",
      "2016-04-12  755.290773\n",
      "2016-04-13  764.052746\n",
      "2016-04-14  768.884785\n",
      "2016-04-15  772.941849\n",
      "2016-04-18  779.249363\n",
      "2016-04-19  767.717071\n",
      "2016-04-20  767.846817\n",
      "2016-04-21  771.899913\n",
      "2016-04-22  728.992735\n",
      "2016-04-25  734.881456\n",
      "2016-04-26  717.000157\n",
      "2016-04-27  712.288176\n",
      "2016-04-28  697.531902\n",
      "2016-04-29  701.506841\n",
      "2016-05-02  706.988698\n",
      "2016-05-03  702.577571\n",
      "2016-05-04  704.107353\n",
      "2016-05-05  707.890254\n",
      "2016-05-06  716.557377\n",
      "2016-05-09  722.053549\n",
      "2016-05-10  731.916066\n",
      "2016-05-11  723.642175\n",
      "2016-05-12  721.202333\n",
      "2016-05-13  718.807200\n",
      "2016-05-16  722.151339\n",
      "2016-05-17  713.169486\n",
      "2016-05-18  714.542568\n",
      "2016-05-19  708.342091\n",
      "2016-05-20  714.437831\n",
      "2016-05-23  711.548817\n",
      "                     0\n",
      "Date                  \n",
      "2016-04-12         NaN\n",
      "2016-04-13  755.290773\n",
      "2016-04-14  764.052746\n",
      "2016-04-15  768.884785\n",
      "2016-04-18  772.941849\n",
      "2016-04-19  779.249363\n",
      "2016-04-20  767.717071\n",
      "2016-04-21  767.846817\n",
      "2016-04-22  771.899913\n",
      "2016-04-25  728.992735\n",
      "2016-04-26  734.881456\n",
      "2016-04-27  717.000157\n",
      "2016-04-28  712.288176\n",
      "2016-04-29  697.531902\n",
      "2016-05-02  701.506841\n",
      "2016-05-03  706.988698\n",
      "2016-05-04  702.577571\n",
      "2016-05-05  704.107353\n",
      "2016-05-06  707.890254\n",
      "2016-05-09  716.557377\n",
      "2016-05-10  722.053549\n",
      "2016-05-11  731.916066\n",
      "2016-05-12  723.642175\n",
      "2016-05-13  721.202333\n",
      "2016-05-16  718.807200\n",
      "2016-05-17  722.151339\n",
      "2016-05-18  713.169486\n",
      "2016-05-19  714.542568\n",
      "2016-05-20  708.342091\n",
      "2016-05-23  714.437831\n"
     ]
    }
   ],
   "source": [
    "GOOGL_test_forecast = GOOGL_data_complete[len(GOOGL_data_complete)-30:]\n",
    "#print(GOOGL_test_forecast)\n",
    "actualLow = GOOGL_test_forecast['Adj. Low']\n",
    "#print(actualClose)\n",
    "#print(GOOGL_test_forecast)\n",
    "GOOGL_test_forecast = np.array(GOOGL_test_forecast.drop(['Forecast'], 1))\n",
    "#print(GOOGL_test_forecast)\n",
    "y_pred = linreg.predict(GOOGL_test_forecast)\n",
    "#print(metrics.mean_absolute_error(true, pred))\n",
    "#print(y_pred)\n",
    "index = actualLow.index\n",
    "#index = index.drop(index[0])\n",
    "#print(index)\n",
    "#print(len(y_pred))\n",
    "    \n",
    "prediction = pd.DataFrame(y_pred, index)\n",
    "print(prediction)\n",
    "\n",
    "#print(len(prediction))\n",
    "prediction[0] = prediction[0].shift(1)\n",
    "print(prediction)\n",
    "#print(actualClose)\n",
    "\n",
    "plt.plot(prediction, color='blue')\n",
    "plt.plot(actualLow, color='red')\n",
    "plt.legend(loc=1)\n",
    "plt.xlabel('Date')\n",
    "plt.ylabel('Price')\n",
    "plt.xticks(rotation=45)\n",
    "\n",
    "plt.show()\n"
   ]
  },
  {
   "cell_type": "code",
   "execution_count": 19,
   "metadata": {
    "collapsed": false
   },
   "outputs": [
    {
     "name": "stdout",
     "output_type": "stream",
     "text": [
      "[[          nan]\n",
      " [ 755.29077292]\n",
      " [ 764.05274585]\n",
      " [ 768.88478481]\n",
      " [ 772.94184859]\n",
      " [ 779.24936322]\n",
      " [ 767.71707096]\n",
      " [ 767.8468174 ]\n",
      " [ 771.89991335]\n",
      " [ 728.99273496]\n",
      " [ 734.88145563]\n",
      " [ 717.00015691]\n",
      " [ 712.28817603]\n",
      " [ 697.5319018 ]\n",
      " [ 701.50684113]\n",
      " [ 706.98869834]\n",
      " [ 702.57757122]\n",
      " [ 704.10735279]\n",
      " [ 707.89025442]\n",
      " [ 716.55737681]\n",
      " [ 722.05354919]\n",
      " [ 731.91606556]\n",
      " [ 723.64217459]\n",
      " [ 721.20233258]\n",
      " [ 718.8071997 ]\n",
      " [ 722.15133896]\n",
      " [ 713.16948608]\n",
      " [ 714.54256774]\n",
      " [ 708.34209056]\n",
      " [ 714.43783102]]\n"
     ]
    }
   ],
   "source": [
    "#print(GOOGL_test_y)\n",
    "print(y_pred)\n",
    "#actual = GOOGL_test_y[['Forecast']]\n",
    "\n",
    "#print(actual)\n",
    "#compare = pd.concat([pd.DataFrame(y_pred), GOOGL_test_y])\n",
    "#print(compare)\n",
    "#compare = GOOGL_data_complete['Forecast'] = GOOGL_data_complete['Adj. Close'].shift(-1)\n",
    "#plt.plot(y_pred)\n",
    "#plt.plot(actual)\n",
    "\n",
    "#plt.xlabel('Date')\n",
    "#plt.ylabel('Price')"
   ]
  },
  {
   "cell_type": "code",
   "execution_count": 20,
   "metadata": {
    "collapsed": true
   },
   "outputs": [],
   "source": [
    "GOOGL_test_forecast = GOOGL_data_complete[len(GOOGL_data_complete)-30:]\n",
    "#print(GOOGL_test_forecast.head())\n",
    "#print(GOOGL_test_forecast.tail())"
   ]
  },
  {
   "cell_type": "code",
   "execution_count": null,
   "metadata": {
    "collapsed": false
   },
   "outputs": [],
   "source": []
  },
  {
   "cell_type": "code",
   "execution_count": null,
   "metadata": {
    "collapsed": true
   },
   "outputs": [],
   "source": []
  }
 ],
 "metadata": {
  "kernelspec": {
   "display_name": "Python 3",
   "language": "python",
   "name": "python3"
  },
  "language_info": {
   "codemirror_mode": {
    "name": "ipython",
    "version": 3
   },
   "file_extension": ".py",
   "mimetype": "text/x-python",
   "name": "python",
   "nbconvert_exporter": "python",
   "pygments_lexer": "ipython3",
   "version": "3.5.1"
  }
 },
 "nbformat": 4,
 "nbformat_minor": 0
}
