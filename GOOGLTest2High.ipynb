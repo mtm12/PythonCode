{
 "cells": [
  {
   "cell_type": "code",
   "execution_count": 2,
   "metadata": {
    "collapsed": false
   },
   "outputs": [],
   "source": [
    "import Quandl\n",
    "import pickle\n",
    "import pandas as pd\n",
    "import matplotlib.pyplot as plt\n",
    "import numpy as np\n",
    "from sklearn.linear_model import LinearRegression\n",
    "from sklearn import cross_validation\n",
    "import datetime\n",
    "from pylab import *\n",
    "from sklearn import metrics\n",
    "#%matplotlib inline\n",
    "%matplotlib qt"
   ]
  },
  {
   "cell_type": "code",
   "execution_count": 10,
   "metadata": {
    "collapsed": false
   },
   "outputs": [],
   "source": [
    "df = Quandl.get(\"WIKI/GOOGL\")\n",
    "pickle_out = open('GOOGL.pickle','wb')\n",
    "pickle.dump(df, pickle_out)\n",
    "pickle_out.close() "
   ]
  },
  {
   "cell_type": "code",
   "execution_count": 11,
   "metadata": {
    "collapsed": false
   },
   "outputs": [
    {
     "name": "stdout",
     "output_type": "stream",
     "text": [
      "            Adj. Close  Adj. High    HL_PCT  PCT_change  Adj. Volume  Forecast\n",
      "Date                                                                          \n",
      "2004-08-19      50.170      52.03  8.072553    0.340000   44659000.0    54.540\n",
      "2004-08-20      54.155      54.54  7.921706    7.227007   22834300.0    56.740\n",
      "2004-08-23      54.700      56.74  4.049360   -1.218962   18256100.0    55.800\n",
      "2004-08-24      52.435      55.80  7.657099   -5.726357   15247300.0    54.000\n",
      "2004-08-25      53.000      54.00  3.886792    0.990854    9188600.0    53.975\n",
      "            Adj. Close  Adj. High    HL_PCT  PCT_change  Adj. Volume  Forecast\n",
      "Date                                                                          \n",
      "2016-05-17      720.19   735.8500  2.478513   -1.486882    1631175.0  725.5700\n",
      "2016-05-18      721.78   725.5700  1.461664    0.456507    1607604.0  720.5000\n",
      "2016-05-19      715.31   720.5000  1.425256   -0.416261    1488030.0  727.7000\n",
      "2016-05-20      721.71   727.7000  1.758324    0.732769    1710030.0  723.4999\n",
      "2016-05-23      717.24   723.4999  0.914603   -0.380566    1228165.0       NaN\n"
     ]
    }
   ],
   "source": [
    "GOOGL_data_complete = pd.read_pickle('GOOGL.pickle')\n",
    "GOOGL_data_complete = GOOGL_data_complete[['Adj. Open',  'Adj. High',  'Adj. Low',  'Adj. Close', 'Adj. Volume']]\n",
    "GOOGL_data_complete['HL_PCT'] = (GOOGL_data_complete['Adj. High'] - GOOGL_data_complete['Adj. Low']) / GOOGL_data_complete['Adj. Close'] * 100.0\n",
    "GOOGL_data_complete['PCT_change'] = (GOOGL_data_complete['Adj. Close'] - GOOGL_data_complete['Adj. Open']) / GOOGL_data_complete['Adj. Open'] * 100.0\n",
    "GOOGL_data_complete = GOOGL_data_complete[['Adj. Close', 'Adj. High', 'HL_PCT', 'PCT_change', 'Adj. Volume']]\n",
    "GOOGL_data_complete['Forecast'] = GOOGL_data_complete['Adj. High'].shift(-1)\n",
    "#plt.plot(GOOGL_data_complete['PCT_change'])\n",
    "#plt.xlabel('Date')\n",
    "#plt.ylabel('PCT_change')\n",
    "print(GOOGL_data_complete.head())\n",
    "\n",
    "print(GOOGL_data_complete.tail())"
   ]
  },
  {
   "cell_type": "code",
   "execution_count": 12,
   "metadata": {
    "collapsed": false
   },
   "outputs": [
    {
     "name": "stdout",
     "output_type": "stream",
     "text": [
      "            Adj. Close  Adj. High    HL_PCT  PCT_change  Adj. Volume  Forecast\n",
      "Date                                                                          \n",
      "2004-08-19      50.170      52.03  8.072553    0.340000   44659000.0    54.540\n",
      "2004-08-20      54.155      54.54  7.921706    7.227007   22834300.0    56.740\n",
      "2004-08-23      54.700      56.74  4.049360   -1.218962   18256100.0    55.800\n",
      "2004-08-24      52.435      55.80  7.657099   -5.726357   15247300.0    54.000\n",
      "2004-08-25      53.000      54.00  3.886792    0.990854    9188600.0    53.975\n",
      "            Adj. Close  Adj. High    HL_PCT  PCT_change  Adj. Volume  Forecast\n",
      "Date                                                                          \n",
      "2016-04-05      758.57     762.87  0.958382    0.058038    1210331.0    768.42\n",
      "2016-04-06      768.07     768.42  1.577981    1.349889    1250254.0    769.36\n",
      "2016-04-07      760.12     769.36  1.560280   -0.679454    1221521.0    767.13\n",
      "2016-04-08      759.47     767.13  1.495780   -0.835651    1158783.0    767.22\n",
      "2016-04-11      757.54     767.22  1.304222   -1.033379    1576119.0    764.92\n"
     ]
    }
   ],
   "source": [
    "GOOGL_data = GOOGL_data_complete[:len(GOOGL_data_complete)-30]\n",
    "print(GOOGL_data.head())\n",
    "print(GOOGL_data.tail())"
   ]
  },
  {
   "cell_type": "code",
   "execution_count": 13,
   "metadata": {
    "collapsed": false
   },
   "outputs": [
    {
     "name": "stdout",
     "output_type": "stream",
     "text": [
      "            Adj. Close  Adj. High    HL_PCT  PCT_change  Adj. Volume\n",
      "Date                                                                \n",
      "2010-02-16     270.650    272.065  1.815999    0.825153    7301400.0\n",
      "2005-05-10     113.900    113.900  1.352063    1.033397   12678900.0\n",
      "2006-07-20     193.560    202.220  4.851209   -4.244583   25052300.0\n",
      "2011-11-30     299.695    299.755  1.237925    0.240823    6787200.0\n",
      "2006-12-29     230.240    232.235  1.001129   -0.350573    5113200.0\n",
      "            Forecast\n",
      "Date                \n",
      "2010-02-16   271.700\n",
      "2005-05-10   115.990\n",
      "2006-07-20   195.875\n",
      "2011-11-30   308.000\n",
      "2006-12-29   238.330\n"
     ]
    }
   ],
   "source": [
    "GOOGL_train = GOOGL_data[:(int(len(GOOGL_data)) - int(len(GOOGL_data)*0.25))]\n",
    "X = GOOGL_train[['Adj. Close', 'Adj. High', 'HL_PCT','PCT_change','Adj. Volume']]\n",
    "y = GOOGL_train[['Forecast']]\n",
    "\n",
    "X_train, X_test, y_train, y_test = cross_validation.train_test_split(X, y, test_size=0.2)\n",
    "print(X_train.tail())\n",
    "print(y_train.tail())"
   ]
  },
  {
   "cell_type": "code",
   "execution_count": 14,
   "metadata": {
    "collapsed": false
   },
   "outputs": [
    {
     "name": "stdout",
     "output_type": "stream",
     "text": [
      "0.997222897387\n"
     ]
    }
   ],
   "source": [
    "linreg = LinearRegression()\n",
    "linreg.fit(X_train, y_train)\n",
    "confidence = linreg.score(X_test, y_test)\n",
    "print(confidence)\n"
   ]
  },
  {
   "cell_type": "code",
   "execution_count": 15,
   "metadata": {
    "collapsed": false
   },
   "outputs": [
    {
     "name": "stdout",
     "output_type": "stream",
     "text": [
      "            Adj. Close  Adj. High    HL_PCT  PCT_change  Adj. Volume\n",
      "Date                                                                \n",
      "2010-07-01     219.745    224.200  3.360714   -1.302522    7020100.0\n",
      "2008-04-01     232.855    233.250  4.215069    4.013490   12174000.0\n",
      "2012-08-31     342.545    344.290  1.246552    0.159357    4249900.0\n",
      "2010-03-11     290.570    293.105  2.066628    1.198064    8458100.0\n",
      "2008-04-07     238.410    242.720  2.497798   -0.044022   11875100.0\n",
      "            Adj. Close  Adj. High    HL_PCT  PCT_change  Adj. Volume\n",
      "Date                                                                \n",
      "2013-01-04     368.985    370.735  1.868640    1.183262    5521400.0\n",
      "2010-04-23     272.495    274.660  1.293602   -0.412974    4174600.0\n",
      "2008-02-14     266.125    270.520  1.886332   -1.133092   12940400.0\n",
      "2008-11-26     146.045    147.730  6.593858    4.213643   12700400.0\n",
      "2010-12-22     302.745    303.500  0.614378    0.246689    2412500.0\n"
     ]
    }
   ],
   "source": [
    "print(X_test.head())\n",
    "print(X_test.tail())"
   ]
  },
  {
   "cell_type": "code",
   "execution_count": 16,
   "metadata": {
    "collapsed": false
   },
   "outputs": [
    {
     "name": "stdout",
     "output_type": "stream",
     "text": [
      "                     0\n",
      "Date                  \n",
      "2016-04-12  769.444191\n",
      "2016-04-13  777.252369\n",
      "2016-04-14  780.567936\n",
      "2016-04-15  784.909488\n",
      "2016-04-18  792.845584\n",
      "2016-04-19  782.929529\n",
      "2016-04-20  780.207881\n",
      "2016-04-21  785.154494\n",
      "2016-04-22  744.332052\n",
      "2016-04-25  747.287470\n",
      "2016-04-26  732.532095\n",
      "2016-04-27  727.040283\n",
      "2016-04-28  712.556906\n",
      "2016-04-29  712.861796\n",
      "2016-05-02  719.135946\n",
      "2016-05-03  713.276429\n",
      "2016-05-04  716.430944\n",
      "2016-05-05  719.543293\n",
      "2016-05-06  730.233846\n",
      "2016-05-09  734.387872\n",
      "2016-05-10  744.169370\n",
      "2016-05-11  736.297560\n",
      "2016-05-12  733.488725\n",
      "2016-05-13  730.018057\n",
      "2016-05-16  735.405154\n",
      "2016-05-17  726.610581\n",
      "2016-05-18  726.869473\n",
      "2016-05-19  720.442047\n",
      "2016-05-20  727.112419\n",
      "2016-05-23  722.311783\n",
      "                     0\n",
      "Date                  \n",
      "2016-04-12         NaN\n",
      "2016-04-13  769.444191\n",
      "2016-04-14  777.252369\n",
      "2016-04-15  780.567936\n",
      "2016-04-18  784.909488\n",
      "2016-04-19  792.845584\n",
      "2016-04-20  782.929529\n",
      "2016-04-21  780.207881\n",
      "2016-04-22  785.154494\n",
      "2016-04-25  744.332052\n",
      "2016-04-26  747.287470\n",
      "2016-04-27  732.532095\n",
      "2016-04-28  727.040283\n",
      "2016-04-29  712.556906\n",
      "2016-05-02  712.861796\n",
      "2016-05-03  719.135946\n",
      "2016-05-04  713.276429\n",
      "2016-05-05  716.430944\n",
      "2016-05-06  719.543293\n",
      "2016-05-09  730.233846\n",
      "2016-05-10  734.387872\n",
      "2016-05-11  744.169370\n",
      "2016-05-12  736.297560\n",
      "2016-05-13  733.488725\n",
      "2016-05-16  730.018057\n",
      "2016-05-17  735.405154\n",
      "2016-05-18  726.610581\n",
      "2016-05-19  726.869473\n",
      "2016-05-20  720.442047\n",
      "2016-05-23  727.112419\n"
     ]
    }
   ],
   "source": [
    "GOOGL_test_forecast = GOOGL_data_complete[len(GOOGL_data_complete)-30:]\n",
    "#print(GOOGL_test_forecast)\n",
    "actualHigh = GOOGL_test_forecast['Adj. High']\n",
    "#print(actualClose)\n",
    "#print(GOOGL_test_forecast)\n",
    "GOOGL_test_forecast = np.array(GOOGL_test_forecast.drop(['Forecast'], 1))\n",
    "#print(GOOGL_test_forecast)\n",
    "y_pred = linreg.predict(GOOGL_test_forecast)\n",
    "#print(metrics.mean_absolute_error(true, pred))\n",
    "#print(y_pred)\n",
    "index = actualHigh.index\n",
    "#index = index.drop(index[0])\n",
    "#print(index)\n",
    "#print(len(y_pred))\n",
    "    \n",
    "prediction = pd.DataFrame(y_pred, index)\n",
    "print(prediction)\n",
    "\n",
    "#print(len(prediction))\n",
    "prediction[0] = prediction[0].shift(1)\n",
    "print(prediction)\n",
    "#print(actualClose)\n",
    "\n",
    "plt.plot(prediction, color='blue')\n",
    "plt.plot(actualHigh, color='red')\n",
    "plt.legend(loc=1)\n",
    "plt.xlabel('Date')\n",
    "plt.ylabel('Price')\n",
    "plt.xticks(rotation=45)\n",
    "\n",
    "plt.show()\n"
   ]
  },
  {
   "cell_type": "code",
   "execution_count": 17,
   "metadata": {
    "collapsed": false
   },
   "outputs": [
    {
     "name": "stdout",
     "output_type": "stream",
     "text": [
      "[[          nan]\n",
      " [ 769.44419141]\n",
      " [ 777.25236898]\n",
      " [ 780.56793554]\n",
      " [ 784.90948819]\n",
      " [ 792.84558404]\n",
      " [ 782.92952901]\n",
      " [ 780.20788086]\n",
      " [ 785.15449354]\n",
      " [ 744.33205188]\n",
      " [ 747.28746958]\n",
      " [ 732.53209461]\n",
      " [ 727.04028321]\n",
      " [ 712.55690622]\n",
      " [ 712.86179576]\n",
      " [ 719.13594581]\n",
      " [ 713.27642875]\n",
      " [ 716.4309443 ]\n",
      " [ 719.54329331]\n",
      " [ 730.23384601]\n",
      " [ 734.38787163]\n",
      " [ 744.16937017]\n",
      " [ 736.29756011]\n",
      " [ 733.48872506]\n",
      " [ 730.0180566 ]\n",
      " [ 735.40515373]\n",
      " [ 726.61058064]\n",
      " [ 726.8694726 ]\n",
      " [ 720.44204686]\n",
      " [ 727.11241877]]\n"
     ]
    }
   ],
   "source": [
    "#print(GOOGL_test_y)\n",
    "print(y_pred)\n",
    "#actual = GOOGL_test_y[['Forecast']]\n",
    "\n",
    "#print(actual)\n",
    "#compare = pd.concat([pd.DataFrame(y_pred), GOOGL_test_y])\n",
    "#print(compare)\n",
    "#compare = GOOGL_data_complete['Forecast'] = GOOGL_data_complete['Adj. Close'].shift(-1)\n",
    "#plt.plot(y_pred)\n",
    "#plt.plot(actual)\n",
    "\n",
    "#plt.xlabel('Date')\n",
    "#plt.ylabel('Price')"
   ]
  },
  {
   "cell_type": "code",
   "execution_count": 18,
   "metadata": {
    "collapsed": true
   },
   "outputs": [],
   "source": [
    "GOOGL_test_forecast = GOOGL_data_complete[len(GOOGL_data_complete)-30:]\n",
    "#print(GOOGL_test_forecast.head())\n",
    "#print(GOOGL_test_forecast.tail())"
   ]
  },
  {
   "cell_type": "code",
   "execution_count": null,
   "metadata": {
    "collapsed": false
   },
   "outputs": [],
   "source": []
  },
  {
   "cell_type": "code",
   "execution_count": null,
   "metadata": {
    "collapsed": true
   },
   "outputs": [],
   "source": []
  }
 ],
 "metadata": {
  "kernelspec": {
   "display_name": "Python 3",
   "language": "python",
   "name": "python3"
  },
  "language_info": {
   "codemirror_mode": {
    "name": "ipython",
    "version": 3
   },
   "file_extension": ".py",
   "mimetype": "text/x-python",
   "name": "python",
   "nbconvert_exporter": "python",
   "pygments_lexer": "ipython3",
   "version": "3.5.1"
  }
 },
 "nbformat": 4,
 "nbformat_minor": 0
}
