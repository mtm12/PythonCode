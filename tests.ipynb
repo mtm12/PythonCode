{
 "cells": [
  {
   "cell_type": "code",
   "execution_count": 9,
   "metadata": {
    "collapsed": false
   },
   "outputs": [
    {
     "name": "stdout",
     "output_type": "stream",
     "text": [
      "   0  1  2  3  4\n",
      "0  1  2  3  4  5\n"
     ]
    }
   ],
   "source": [
    "import pandas\n",
    "import numpy\n",
    "\n",
    "#dtype = [('Col1','int32'), ('Col2','float32'), ('Col3','float32')]\n",
    "#values = numpy.zeros(20, dtype=dtype)\n",
    "values = [[1,2,3,4,5]]\n",
    "#index = ['Row'+str(i) for i in range(1, len(values)+1)]\n",
    "\n",
    "#df = pandas.DataFrame(values, index=index)\n",
    "df = pandas.DataFrame(values)\n",
    "print(df)"
   ]
  },
  {
   "cell_type": "code",
   "execution_count": null,
   "metadata": {
    "collapsed": true
   },
   "outputs": [],
   "source": []
  }
 ],
 "metadata": {
  "kernelspec": {
   "display_name": "Python 3",
   "language": "python",
   "name": "python3"
  },
  "language_info": {
   "codemirror_mode": {
    "name": "ipython",
    "version": 3
   },
   "file_extension": ".py",
   "mimetype": "text/x-python",
   "name": "python",
   "nbconvert_exporter": "python",
   "pygments_lexer": "ipython3",
   "version": "3.5.1"
  }
 },
 "nbformat": 4,
 "nbformat_minor": 0
}
